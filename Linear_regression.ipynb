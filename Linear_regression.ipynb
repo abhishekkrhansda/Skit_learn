{
  "nbformat": 4,
  "nbformat_minor": 0,
  "metadata": {
    "colab": {
      "provenance": [],
      "authorship_tag": "ABX9TyMWBpHYvsBWyBRt/lTT/Zdr",
      "include_colab_link": true
    },
    "kernelspec": {
      "name": "python3",
      "display_name": "Python 3"
    },
    "language_info": {
      "name": "python"
    }
  },
  "cells": [
    {
      "cell_type": "markdown",
      "metadata": {
        "id": "view-in-github",
        "colab_type": "text"
      },
      "source": [
        "<a href=\"https://colab.research.google.com/github/abhishekkrhansda/Skit_learn/blob/main/Linear_regression.ipynb\" target=\"_parent\"><img src=\"https://colab.research.google.com/assets/colab-badge.svg\" alt=\"Open In Colab\"/></a>"
      ]
    },
    {
      "cell_type": "code",
      "execution_count": 13,
      "metadata": {
        "id": "MV8sP2hZ-z33"
      },
      "outputs": [],
      "source": [
        "from sklearn import datasets\n",
        "from sklearn.model_selection import train_test_split\n",
        "from sklearn import linear_model\n",
        "from matplotlib import pyplot as plt\n",
        "\n"
      ]
    },
    {
      "cell_type": "markdown",
      "source": [
        "Load data"
      ],
      "metadata": {
        "id": "-yWYUCzQABnA"
      }
    },
    {
      "cell_type": "code",
      "source": [
        " from sklearn.datasets import fetch_california_housing\n",
        " housing = fetch_california_housing()\n",
        " X=housing.data\n",
        " y=housing.target\n",
        ""
      ],
      "metadata": {
        "id": "g4kpUHfKADBz"
      },
      "execution_count": 5,
      "outputs": []
    },
    {
      "cell_type": "code",
      "source": [
        "#print Xshape\n",
        "print(X.shape)\n",
        "\n",
        "#print yshape\n",
        "print(y.shape)"
      ],
      "metadata": {
        "colab": {
          "base_uri": "https://localhost:8080/"
        },
        "id": "3fgh4iVAA_W1",
        "outputId": "bd60cb8c-86d4-4092-b0b6-cea1e3db530d"
      },
      "execution_count": 6,
      "outputs": [
        {
          "output_type": "stream",
          "name": "stdout",
          "text": [
            "(20640, 8)\n",
            "(20640,)\n"
          ]
        }
      ]
    },
    {
      "cell_type": "markdown",
      "source": [
        "Create model"
      ],
      "metadata": {
        "id": "IV8JAD3tBNwH"
      }
    },
    {
      "cell_type": "code",
      "source": [
        "plt.scatter(X.T[5], y)\n",
        "plt.show()"
      ],
      "metadata": {
        "colab": {
          "base_uri": "https://localhost:8080/",
          "height": 430
        },
        "id": "BfgOvx-fCQ2G",
        "outputId": "1a581363-dcfa-4ec7-adac-9a384b47d69d"
      },
      "execution_count": 17,
      "outputs": [
        {
          "output_type": "display_data",
          "data": {
            "text/plain": [
              "<Figure size 640x480 with 1 Axes>"
            ],
            "image/png": "[encoded data removed]"
          },
          "metadata": {}
        }
      ]
    },
    {
      "cell_type": "code",
      "source": [
        "model = linear_model.LinearRegression()\n",
        "print(model)\n",
        "print(type(model))"
      ],
      "metadata": {
        "colab": {
          "base_uri": "https://localhost:8080/"
        },
        "id": "oLyrSbouBMfD",
        "outputId": "b729c313-fb48-4a09-ab40-e6a64edaa4e7"
      },
      "execution_count": 32,
      "outputs": [
        {
          "output_type": "stream",
          "name": "stdout",
          "text": [
            "LinearRegression()\n",
            "<class 'sklearn.linear_model._base.LinearRegression'>\n"
          ]
        }
      ]
    },
    {
      "cell_type": "code",
      "source": [
        "X_train,X_test,y_train,y_test =train_test_split(X,y,test_size=0.2)"
      ],
      "metadata": {
        "id": "uT2tsnjGA_NC"
      },
      "execution_count": 23,
      "outputs": []
    },
    {
      "cell_type": "code",
      "source": [
        "trained=model.fit(X_train,y_train)\n"
      ],
      "metadata": {
        "id": "hyejda2JBgUW"
      },
      "execution_count": 33,
      "outputs": []
    },
    {
      "cell_type": "markdown",
      "source": [
        "Prediction\n",
        "Accuracy\n",
        "coeff\n",
        "inter"
      ],
      "metadata": {
        "id": "wYjBR5nYDGew"
      }
    },
    {
      "cell_type": "code",
      "source": [
        "prediction=model.predict(X_test)\n",
        "Accuracy=model.score(X_test,y_test)\n",
        "coeff=model.coef_\n",
        "intr=model.intercept_"
      ],
      "metadata": {
        "id": "nFml2OIIBldR"
      },
      "execution_count": 34,
      "outputs": []
    },
    {
      "cell_type": "code",
      "source": [
        "print(prediction)\n",
        "print(Accuracy)\n",
        "print(coeff)\n",
        "print(intr)"
      ],
      "metadata": {
        "colab": {
          "base_uri": "https://localhost:8080/"
        },
        "id": "hJxCNBPSDesV",
        "outputId": "9f4455a5-cffe-4722-c360-8a6504d290ed"
      },
      "execution_count": 35,
      "outputs": [
        {
          "output_type": "stream",
          "name": "stdout",
          "text": [
            "[1.86350628 2.47385643 3.26307675 ... 1.74206594 1.35512869 1.39507925]\n",
            "0.5945973487402991\n",
            "[ 4.40598316e-01  9.44881535e-03 -1.09141639e-01  6.41521273e-01\n",
            " -3.61770545e-06 -4.17882014e-03 -4.13045411e-01 -4.25611898e-01]\n",
            "-36.170902440084234\n"
          ]
        }
      ]
    }
  ]
}